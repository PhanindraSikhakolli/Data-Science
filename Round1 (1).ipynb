{
  "nbformat": 4,
  "nbformat_minor": 0,
  "metadata": {
    "colab": {
      "provenance": []
    },
    "kernelspec": {
      "name": "python3",
      "display_name": "Python 3"
    },
    "language_info": {
      "name": "python"
    }
  },
  "cells": [
    {
      "cell_type": "code",
      "source": [
        "import pandas as pd\n",
        "import matplotlib.pyplot as plt\n",
        "from sklearn.cluster import KMeans"
      ],
      "metadata": {
        "id": "XU7a0ZhaKB_7"
      },
      "execution_count": 1,
      "outputs": []
    },
    {
      "cell_type": "code",
      "source": [
        "# input dataset\n",
        "locations = pd.read_csv('/content/worldcities.csv')\n",
        "locations.head()"
      ],
      "metadata": {
        "id": "9gFB6oI1IbGw",
        "colab": {
          "base_uri": "https://localhost:8080/",
          "height": 206
        },
        "outputId": "f63129ce-446d-4bb5-b6ee-ad8e14c66972"
      },
      "execution_count": 2,
      "outputs": [
        {
          "output_type": "execute_result",
          "data": {
            "text/plain": [
              "      city city_ascii      lat       lng      country iso2 iso3   admin_name  \\\n",
              "0    Tokyo      Tokyo  35.6897  139.6922        Japan   JP  JPN        Tōkyō   \n",
              "1  Jakarta    Jakarta  -6.2146  106.8451    Indonesia   ID  IDN      Jakarta   \n",
              "2    Delhi      Delhi  28.6600   77.2300        India   IN  IND        Delhi   \n",
              "3   Mumbai     Mumbai  18.9667   72.8333        India   IN  IND  Mahārāshtra   \n",
              "4   Manila     Manila  14.5958  120.9772  Philippines   PH  PHL       Manila   \n",
              "\n",
              "   capital  population          id  \n",
              "0  primary  37977000.0  1392685764  \n",
              "1  primary  34540000.0  1360771077  \n",
              "2    admin  29617000.0  1356872604  \n",
              "3    admin  23355000.0  1356226629  \n",
              "4  primary  23088000.0  1608618140  "
            ],
            "text/html": [
              "\n",
              "  <div id=\"df-f0902ac1-a7a0-4bf1-93e6-5778aa9121dd\">\n",
              "    <div class=\"colab-df-container\">\n",
              "      <div>\n",
              "<style scoped>\n",
              "    .dataframe tbody tr th:only-of-type {\n",
              "        vertical-align: middle;\n",
              "    }\n",
              "\n",
              "    .dataframe tbody tr th {\n",
              "        vertical-align: top;\n",
              "    }\n",
              "\n",
              "    .dataframe thead th {\n",
              "        text-align: right;\n",
              "    }\n",
              "</style>\n",
              "<table border=\"1\" class=\"dataframe\">\n",
              "  <thead>\n",
              "    <tr style=\"text-align: right;\">\n",
              "      <th></th>\n",
              "      <th>city</th>\n",
              "      <th>city_ascii</th>\n",
              "      <th>lat</th>\n",
              "      <th>lng</th>\n",
              "      <th>country</th>\n",
              "      <th>iso2</th>\n",
              "      <th>iso3</th>\n",
              "      <th>admin_name</th>\n",
              "      <th>capital</th>\n",
              "      <th>population</th>\n",
              "      <th>id</th>\n",
              "    </tr>\n",
              "  </thead>\n",
              "  <tbody>\n",
              "    <tr>\n",
              "      <th>0</th>\n",
              "      <td>Tokyo</td>\n",
              "      <td>Tokyo</td>\n",
              "      <td>35.6897</td>\n",
              "      <td>139.6922</td>\n",
              "      <td>Japan</td>\n",
              "      <td>JP</td>\n",
              "      <td>JPN</td>\n",
              "      <td>Tōkyō</td>\n",
              "      <td>primary</td>\n",
              "      <td>37977000.0</td>\n",
              "      <td>1392685764</td>\n",
              "    </tr>\n",
              "    <tr>\n",
              "      <th>1</th>\n",
              "      <td>Jakarta</td>\n",
              "      <td>Jakarta</td>\n",
              "      <td>-6.2146</td>\n",
              "      <td>106.8451</td>\n",
              "      <td>Indonesia</td>\n",
              "      <td>ID</td>\n",
              "      <td>IDN</td>\n",
              "      <td>Jakarta</td>\n",
              "      <td>primary</td>\n",
              "      <td>34540000.0</td>\n",
              "      <td>1360771077</td>\n",
              "    </tr>\n",
              "    <tr>\n",
              "      <th>2</th>\n",
              "      <td>Delhi</td>\n",
              "      <td>Delhi</td>\n",
              "      <td>28.6600</td>\n",
              "      <td>77.2300</td>\n",
              "      <td>India</td>\n",
              "      <td>IN</td>\n",
              "      <td>IND</td>\n",
              "      <td>Delhi</td>\n",
              "      <td>admin</td>\n",
              "      <td>29617000.0</td>\n",
              "      <td>1356872604</td>\n",
              "    </tr>\n",
              "    <tr>\n",
              "      <th>3</th>\n",
              "      <td>Mumbai</td>\n",
              "      <td>Mumbai</td>\n",
              "      <td>18.9667</td>\n",
              "      <td>72.8333</td>\n",
              "      <td>India</td>\n",
              "      <td>IN</td>\n",
              "      <td>IND</td>\n",
              "      <td>Mahārāshtra</td>\n",
              "      <td>admin</td>\n",
              "      <td>23355000.0</td>\n",
              "      <td>1356226629</td>\n",
              "    </tr>\n",
              "    <tr>\n",
              "      <th>4</th>\n",
              "      <td>Manila</td>\n",
              "      <td>Manila</td>\n",
              "      <td>14.5958</td>\n",
              "      <td>120.9772</td>\n",
              "      <td>Philippines</td>\n",
              "      <td>PH</td>\n",
              "      <td>PHL</td>\n",
              "      <td>Manila</td>\n",
              "      <td>primary</td>\n",
              "      <td>23088000.0</td>\n",
              "      <td>1608618140</td>\n",
              "    </tr>\n",
              "  </tbody>\n",
              "</table>\n",
              "</div>\n",
              "      <button class=\"colab-df-convert\" onclick=\"convertToInteractive('df-f0902ac1-a7a0-4bf1-93e6-5778aa9121dd')\"\n",
              "              title=\"Convert this dataframe to an interactive table.\"\n",
              "              style=\"display:none;\">\n",
              "        \n",
              "  <svg xmlns=\"http://www.w3.org/2000/svg\" height=\"24px\"viewBox=\"0 0 24 24\"\n",
              "       width=\"24px\">\n",
              "    <path d=\"M0 0h24v24H0V0z\" fill=\"none\"/>\n",
              "    <path d=\"M18.56 5.44l.94 2.06.94-2.06 2.06-.94-2.06-.94-.94-2.06-.94 2.06-2.06.94zm-11 1L8.5 8.5l.94-2.06 2.06-.94-2.06-.94L8.5 2.5l-.94 2.06-2.06.94zm10 10l.94 2.06.94-2.06 2.06-.94-2.06-.94-.94-2.06-.94 2.06-2.06.94z\"/><path d=\"M17.41 7.96l-1.37-1.37c-.4-.4-.92-.59-1.43-.59-.52 0-1.04.2-1.43.59L10.3 9.45l-7.72 7.72c-.78.78-.78 2.05 0 2.83L4 21.41c.39.39.9.59 1.41.59.51 0 1.02-.2 1.41-.59l7.78-7.78 2.81-2.81c.8-.78.8-2.07 0-2.86zM5.41 20L4 18.59l7.72-7.72 1.47 1.35L5.41 20z\"/>\n",
              "  </svg>\n",
              "      </button>\n",
              "      \n",
              "  <style>\n",
              "    .colab-df-container {\n",
              "      display:flex;\n",
              "      flex-wrap:wrap;\n",
              "      gap: 12px;\n",
              "    }\n",
              "\n",
              "    .colab-df-convert {\n",
              "      background-color: #E8F0FE;\n",
              "      border: none;\n",
              "      border-radius: 50%;\n",
              "      cursor: pointer;\n",
              "      display: none;\n",
              "      fill: #1967D2;\n",
              "      height: 32px;\n",
              "      padding: 0 0 0 0;\n",
              "      width: 32px;\n",
              "    }\n",
              "\n",
              "    .colab-df-convert:hover {\n",
              "      background-color: #E2EBFA;\n",
              "      box-shadow: 0px 1px 2px rgba(60, 64, 67, 0.3), 0px 1px 3px 1px rgba(60, 64, 67, 0.15);\n",
              "      fill: #174EA6;\n",
              "    }\n",
              "\n",
              "    [theme=dark] .colab-df-convert {\n",
              "      background-color: #3B4455;\n",
              "      fill: #D2E3FC;\n",
              "    }\n",
              "\n",
              "    [theme=dark] .colab-df-convert:hover {\n",
              "      background-color: #434B5C;\n",
              "      box-shadow: 0px 1px 3px 1px rgba(0, 0, 0, 0.15);\n",
              "      filter: drop-shadow(0px 1px 2px rgba(0, 0, 0, 0.3));\n",
              "      fill: #FFFFFF;\n",
              "    }\n",
              "  </style>\n",
              "\n",
              "      <script>\n",
              "        const buttonEl =\n",
              "          document.querySelector('#df-f0902ac1-a7a0-4bf1-93e6-5778aa9121dd button.colab-df-convert');\n",
              "        buttonEl.style.display =\n",
              "          google.colab.kernel.accessAllowed ? 'block' : 'none';\n",
              "\n",
              "        async function convertToInteractive(key) {\n",
              "          const element = document.querySelector('#df-f0902ac1-a7a0-4bf1-93e6-5778aa9121dd');\n",
              "          const dataTable =\n",
              "            await google.colab.kernel.invokeFunction('convertToInteractive',\n",
              "                                                     [key], {});\n",
              "          if (!dataTable) return;\n",
              "\n",
              "          const docLinkHtml = 'Like what you see? Visit the ' +\n",
              "            '<a target=\"_blank\" href=https://colab.research.google.com/notebooks/data_table.ipynb>data table notebook</a>'\n",
              "            + ' to learn more about interactive tables.';\n",
              "          element.innerHTML = '';\n",
              "          dataTable['output_type'] = 'display_data';\n",
              "          await google.colab.output.renderOutput(dataTable, element);\n",
              "          const docLink = document.createElement('div');\n",
              "          docLink.innerHTML = docLinkHtml;\n",
              "          element.appendChild(docLink);\n",
              "        }\n",
              "      </script>\n",
              "    </div>\n",
              "  </div>\n",
              "  "
            ]
          },
          "metadata": {},
          "execution_count": 2
        }
      ]
    },
    {
      "cell_type": "code",
      "source": [
        "plt.scatter(locations[\"lng\"], \n",
        "            locations[\"lat\"])\n",
        "\n",
        "plt.xlabel(\"longituted\")\n",
        "plt.ylabel(\"latitude\")\n",
        "plt.suptitle(\"Location of all Cities\")"
      ],
      "metadata": {
        "colab": {
          "base_uri": "https://localhost:8080/",
          "height": 326
        },
        "id": "jwxn7HANR_Z7",
        "outputId": "d1a75759-32e7-4353-8852-2dd368486741"
      },
      "execution_count": 3,
      "outputs": [
        {
          "output_type": "execute_result",
          "data": {
            "text/plain": [
              "Text(0.5, 0.98, 'Location of all Cities')"
            ]
          },
          "metadata": {},
          "execution_count": 3
        },
        {
          "output_type": "display_data",
          "data": {
            "text/plain": [
              "<Figure size 432x288 with 1 Axes>"
            ],
            "image/png": "[encoded data removed]"
          },
          "metadata": {
            "needs_background": "light"
          }
        }
      ]
    },
    {
      "cell_type": "code",
      "source": [
        "locations.isnull().sum()"
      ],
      "metadata": {
        "colab": {
          "base_uri": "https://localhost:8080/"
        },
        "id": "urgNffvmTD4P",
        "outputId": "ea97ef15-3a73-4177-d0d5-ed6aa35be1dd"
      },
      "execution_count": 4,
      "outputs": [
        {
          "output_type": "execute_result",
          "data": {
            "text/plain": [
              "city              0\n",
              "city_ascii        0\n",
              "lat               0\n",
              "lng               0\n",
              "country           0\n",
              "iso2             31\n",
              "iso3              0\n",
              "admin_name       76\n",
              "capital       18943\n",
              "population      973\n",
              "id                0\n",
              "dtype: int64"
            ]
          },
          "metadata": {},
          "execution_count": 4
        }
      ]
    },
    {
      "cell_type": "code",
      "source": [
        "columns = [\"lat\", \"lng\"]\n",
        "locations = locations[columns]"
      ],
      "metadata": {
        "id": "wNweCZhzTQuy"
      },
      "execution_count": 5,
      "outputs": []
    },
    {
      "cell_type": "code",
      "source": [
        "def find_best_clusters(df, maximum_K):\n",
        "    \n",
        "    clusters_centers = []\n",
        "    k_values = []\n",
        "    \n",
        "    for k in range(1, maximum_K):\n",
        "        \n",
        "        kmeans_model = KMeans(n_clusters = k)\n",
        "        kmeans_model.fit(df)\n",
        "        \n",
        "        clusters_centers.append(kmeans_model.inertia_)\n",
        "        k_values.append(k)\n",
        "        \n",
        "    \n",
        "    return clusters_centers, k_values"
      ],
      "metadata": {
        "id": "BQs9HTt-TuJz"
      },
      "execution_count": 6,
      "outputs": []
    },
    {
      "cell_type": "code",
      "source": [
        "def generate_elbow_plot(clusters_centers, k_values):\n",
        "    \n",
        "    figure = plt.subplots(figsize = (12, 6))\n",
        "    plt.plot(k_values, clusters_centers, 'o-', color = 'orange')\n",
        "    plt.xlabel(\"Number of Clusters (K)\")\n",
        "    plt.ylabel(\"Cluster Inertia\")\n",
        "    plt.title(\"Elbow Plot of KMeans\")\n",
        "    plt.show()"
      ],
      "metadata": {
        "id": "5RT5An_RT2Dl"
      },
      "execution_count": 7,
      "outputs": []
    },
    {
      "cell_type": "code",
      "source": [
        "clusters_centers, k_values = find_best_clusters(scaled_data, 12)\n",
        "\n",
        "generate_elbow_plot(clusters_centers, k_values)"
      ],
      "metadata": {
        "colab": {
          "base_uri": "https://localhost:8080/",
          "height": 204
        },
        "id": "elrPM6AhT9rw",
        "outputId": "75d2d623-b794-4449-81de-7092955612e0"
      },
      "execution_count": 8,
      "outputs": [
        {
          "output_type": "error",
          "ename": "NameError",
          "evalue": "ignored",
          "traceback": [
            "\u001b[0;31m---------------------------------------------------------------------------\u001b[0m",
            "\u001b[0;31mNameError\u001b[0m                                 Traceback (most recent call last)",
            "\u001b[0;32m<ipython-input-8-a78af8b3babe>\u001b[0m in \u001b[0;36m<module>\u001b[0;34m\u001b[0m\n\u001b[0;32m----> 1\u001b[0;31m \u001b[0mclusters_centers\u001b[0m\u001b[0;34m,\u001b[0m \u001b[0mk_values\u001b[0m \u001b[0;34m=\u001b[0m \u001b[0mfind_best_clusters\u001b[0m\u001b[0;34m(\u001b[0m\u001b[0mscaled_data\u001b[0m\u001b[0;34m,\u001b[0m \u001b[0;36m12\u001b[0m\u001b[0;34m)\u001b[0m\u001b[0;34m\u001b[0m\u001b[0;34m\u001b[0m\u001b[0m\n\u001b[0m\u001b[1;32m      2\u001b[0m \u001b[0;34m\u001b[0m\u001b[0m\n\u001b[1;32m      3\u001b[0m \u001b[0mgenerate_elbow_plot\u001b[0m\u001b[0;34m(\u001b[0m\u001b[0mclusters_centers\u001b[0m\u001b[0;34m,\u001b[0m \u001b[0mk_values\u001b[0m\u001b[0;34m)\u001b[0m\u001b[0;34m\u001b[0m\u001b[0;34m\u001b[0m\u001b[0m\n",
            "\u001b[0;31mNameError\u001b[0m: name 'scaled_data' is not defined"
          ]
        }
      ]
    },
    {
      "cell_type": "code",
      "source": [
        "kmeans_model = KMeans(n_clusters = 5)\n",
        "\n",
        "kmeans_model.fit(scaled_data)"
      ],
      "metadata": {
        "id": "B2V5VxL0UKdm"
      },
      "execution_count": null,
      "outputs": []
    },
    {
      "cell_type": "code",
      "source": [
        "locations[\"clusters\"] = kmeans_model.labels_\n",
        "\n",
        "locations.head()"
      ],
      "metadata": {
        "id": "6dpsdJxAUV1m"
      },
      "execution_count": null,
      "outputs": []
    },
    {
      "cell_type": "code",
      "source": [
        "plt.scatter(locations[\"lng\"], \n",
        "            locations[\"lat\"], \n",
        "            c = locations[\"clusters\"])"
      ],
      "metadata": {
        "id": "GRjacdgLUcIm"
      },
      "execution_count": null,
      "outputs": []
    },
    {
      "cell_type": "code",
      "source": [],
      "metadata": {
        "id": "xZoDzWP1IzV9"
      },
      "execution_count": null,
      "outputs": []
    }
  ]
}